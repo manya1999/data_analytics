{
 "cells": [
  {
   "cell_type": "code",
   "execution_count": 1,
   "metadata": {},
   "outputs": [
    {
     "name": "stderr",
     "output_type": "stream",
     "text": [
      "[nltk_data] Error loading word_tokenize: Package 'word_tokenize' not\n",
      "[nltk_data]     found in index\n",
      "[nltk_data] Downloading package stopwords to C:\\Users\\Manya\n",
      "[nltk_data]     Mishra\\AppData\\Roaming\\nltk_data...\n",
      "[nltk_data]   Package stopwords is already up-to-date!\n",
      "[nltk_data] Downloading package wordnet to C:\\Users\\Manya\n",
      "[nltk_data]     Mishra\\AppData\\Roaming\\nltk_data...\n",
      "[nltk_data]   Package wordnet is already up-to-date!\n"
     ]
    },
    {
     "data": {
      "text/plain": [
       "True"
      ]
     },
     "execution_count": 1,
     "metadata": {},
     "output_type": "execute_result"
    }
   ],
   "source": [
    "import nltk\n",
    "from nltk.tokenize import sent_tokenize, word_tokenize \n",
    "nltk.download('word_tokenize')\n",
    "from nltk.corpus import stopwords\n",
    "nltk.download('stopwords')\n",
    "from nltk.stem import PorterStemmer\n",
    "from nltk.tag import pos_tag\n",
    "from nltk.stem.wordnet import WordNetLemmatizer\n",
    "nltk.download('wordnet')\n"
   ]
  },
  {
   "cell_type": "code",
   "execution_count": 2,
   "metadata": {},
   "outputs": [],
   "source": [
    "import tweepy as tw\n",
    "import pandas as pd\n",
    "import numpy\n",
    "import json\n",
    "import re"
   ]
  },
  {
   "cell_type": "code",
   "execution_count": 27,
   "metadata": {},
   "outputs": [],
   "source": [
    "import wordnet\n",
    "import wordcloud\n",
    "from wordcloud import WordCloud\n",
    "import matplotlib"
   ]
  },
  {
   "cell_type": "code",
   "execution_count": 6,
   "metadata": {},
   "outputs": [],
   "source": [
    "consumer_key= ''\n",
    "consumer_secret= ''\n",
    "access_token= ''\n",
    "access_token_secret= ''"
   ]
  },
  {
   "cell_type": "code",
   "execution_count": 7,
   "metadata": {},
   "outputs": [],
   "source": [
    "auth = tw.OAuthHandler(consumer_key, consumer_secret)\n",
    "auth.set_access_token(access_token, access_token_secret)\n",
    "api = tw.API(auth, wait_on_rate_limit=True)"
   ]
  },
  {
   "cell_type": "code",
   "execution_count": 8,
   "metadata": {},
   "outputs": [],
   "source": [
    "search_words = \"#CORONA\"\n",
    "date_since = \"2021-2-1\""
   ]
  },
  {
   "cell_type": "code",
   "execution_count": 9,
   "metadata": {},
   "outputs": [
    {
     "data": {
      "text/plain": [
       "['RT @nisheethsharan: Heart breaking news coming in:\\nShri @NandKumarSinghC ex BJP MP president and Memeber of Parliament passed away last nig…',\n",
       " 'RT @nisheethsharan: Heart breaking news coming in:\\nShri @NandKumarSinghC ex BJP MP president and Memeber of Parliament passed away last nig…',\n",
       " 'RT @moneycontrolcom: #DidYouKnow? 92% of those who tried to register for #COVID19 vaccination through Co-WIN had difficulty with only 8% we…',\n",
       " '#DidYouKnow? 92% of those who tried to register for #COVID19 vaccination through Co-WIN had difficulty with only 8%… https://t.co/JLmYmTQNms',\n",
       " 'RT @meiklwagner: Saint Claude - Christine And The Queens, 2015, \\nNeon Gold/Atlantic/Because Music Rec.\\nOn YouTube: https://t.co/ur9U1TrO3F…',\n",
       " 'RT @meiklwagner: Blasphemous Rumours - Depeche Mode, 1984, Mute Records. On YouTube: https://t.co/QipGqZ1uwm\\n\\n#FridaysForFuture #SenKultEU…',\n",
       " \"This'll be the next #corona rule @mattisbrilliant #PS4share\\n\\nhttps://t.co/Y0tFyUjXJN https://t.co/xdyXdkeFyI\",\n",
       " '#Corona Info for #India:\\nNew Cases: 908\\nToday Recovery: 2363\\nToday Deaths: 0\\nTotal Active Cases: 168331\\nTotal Cases… https://t.co/soNTg8SFC0',\n",
       " 'Get Vaccinated Now for COVID-19 at AMC Super Speciality Hospital\\n\\n📞 97 86 02 07 04\\n\\n#COVID19Vaccination… https://t.co/3RxVawhHI0',\n",
       " 'RT @MarketNewsLK: 42,925 persons receive COVID-19 vaccine in Sri Lanka yesterday\\n\\n#SriLanka #lka #COVID19 #Covid_19 #COVID19Vaccine #Corona…']"
      ]
     },
     "execution_count": 9,
     "metadata": {},
     "output_type": "execute_result"
    }
   ],
   "source": [
    "tweets = tw.Cursor(api.search,\n",
    "                       q=search_words,\n",
    "                       lang=\"en\",\n",
    "                       since=date_since).items(100)\n",
    "\n",
    "alltweets = [tweet.text for tweet in tweets]\n",
    "alltweets[:10]"
   ]
  },
  {
   "cell_type": "code",
   "execution_count": 10,
   "metadata": {},
   "outputs": [
    {
     "name": "stdout",
     "output_type": "stream",
     "text": [
      "['RT', '@', 'nisheethsharan', ':', 'Heart', 'breaking', 'news', 'coming', 'in', ':', 'Shri', '@', 'NandKumarSinghC', 'ex', 'BJP', 'MP', 'president', 'and', 'Memeber', 'of', 'Parliament', 'passed', 'away', 'last', 'nig…']\n"
     ]
    }
   ],
   "source": [
    "tweet_tokens=word_tokenize(alltweets[0])\n",
    "print(tweet_tokens)"
   ]
  },
  {
   "cell_type": "code",
   "execution_count": 11,
   "metadata": {},
   "outputs": [
    {
     "name": "stdout",
     "output_type": "stream",
     "text": [
      "[('RT', 'NNP'), ('@', 'NNP'), ('nisheethsharan', 'NN'), (':', ':'), ('Heart', 'NNP'), ('breaking', 'VBG'), ('news', 'NN'), ('coming', 'VBG'), ('in', 'IN'), (':', ':'), ('Shri', 'NNP'), ('@', 'NNP'), ('NandKumarSinghC', 'NNP'), ('ex', 'FW'), ('BJP', 'NNP'), ('MP', 'NNP'), ('president', 'NN'), ('and', 'CC'), ('Memeber', 'NNP'), ('of', 'IN'), ('Parliament', 'NNP'), ('passed', 'VBD'), ('away', 'RB'), ('last', 'JJ'), ('nig…', 'NN')]\n"
     ]
    }
   ],
   "source": [
    "print(pos_tag(tweet_tokens))"
   ]
  },
  {
   "cell_type": "code",
   "execution_count": 12,
   "metadata": {},
   "outputs": [
    {
     "name": "stdout",
     "output_type": "stream",
     "text": [
      "['RT', '@', 'nisheethsharan', ':', 'Heart', 'break', 'news', 'come', 'in', ':', 'Shri', '@', 'NandKumarSinghC', 'ex', 'BJP', 'MP', 'president', 'and', 'Memeber', 'of', 'Parliament', 'pass', 'away', 'last', 'nig…']\n"
     ]
    }
   ],
   "source": [
    "\n",
    "\n",
    "from nltk.tag import pos_tag\n",
    "from nltk.stem.wordnet import WordNetLemmatizer\n",
    "\n",
    "def lemmatize_sentence(tokens):\n",
    "    lemmatizer = WordNetLemmatizer()\n",
    "    lemmatized_sentence = []\n",
    "    for word, tag in pos_tag(tokens):\n",
    "        if tag.startswith('NN'):\n",
    "            pos = 'n'\n",
    "        elif tag.startswith('VB'):\n",
    "            pos = 'v'\n",
    "        else:\n",
    "            pos = 'a'\n",
    "        lemmatized_sentence.append(lemmatizer.lemmatize(word, pos))\n",
    "    return lemmatized_sentence\n",
    "\n",
    "print(lemmatize_sentence(tweet_tokens))"
   ]
  },
  {
   "cell_type": "code",
   "execution_count": 13,
   "metadata": {},
   "outputs": [],
   "source": [
    "import re, string\n",
    "\n",
    "def remove_noise(tweet_tokens, stop_words = ()):\n",
    "\n",
    "    cleaned_tokens = []\n",
    "\n",
    "    for token, tag in pos_tag(tweet_tokens):\n",
    "        token = re.sub('http[s]?://(?:[a-zA-Z]|[0-9]|[$-_@.&+#]|[!*\\(\\),]|'\\\n",
    "                       '(?:%[0-9a-fA-F][0-9a-fA-F]))+','', token)\n",
    "        token = re.sub(\"(@[A-Za-z0-9_]+)\",\"\", token)\n",
    "\n",
    "        if tag.startswith(\"NN\"):\n",
    "            pos = 'n'\n",
    "        elif tag.startswith('VB'):\n",
    "            pos = 'v'\n",
    "        else:\n",
    "            pos = 'a'\n",
    "\n",
    "        lemmatizer = WordNetLemmatizer()\n",
    "        token = lemmatizer.lemmatize(token, pos)\n",
    "\n",
    "        if len(token) > 0 and token not in string.punctuation and token.lower() not in stop_words:\n",
    "            cleaned_tokens.append(token.lower())\n",
    "    return cleaned_tokens"
   ]
  },
  {
   "cell_type": "code",
   "execution_count": 14,
   "metadata": {},
   "outputs": [
    {
     "name": "stdout",
     "output_type": "stream",
     "text": [
      "['rt', 'nisheethsharan', 'heart', 'break', 'news', 'come', 'shri', 'nandkumarsinghc', 'ex', 'bjp', 'mp', 'president', 'memeber', 'parliament', 'pass', 'away', 'last', 'nig…']\n"
     ]
    }
   ],
   "source": [
    "from nltk.corpus import stopwords\n",
    "stop_words = stopwords.words('english')\n",
    "cleaned_tokens_list=remove_noise(tweet_tokens, stop_words)\n",
    "print(cleaned_tokens_list)"
   ]
  },
  {
   "cell_type": "code",
   "execution_count": 15,
   "metadata": {},
   "outputs": [
    {
     "data": {
      "text/plain": [
       "'def get_all_words(cleaned_tokens_list):\\n    for tokens in cleaned_tokens_list:\\n        for token in tokens:\\n            yield token\\n\\nall_pos_words = get_all_words(cleaned_tokens_list)'"
      ]
     },
     "execution_count": 15,
     "metadata": {},
     "output_type": "execute_result"
    }
   ],
   "source": [
    "'''def get_all_words(cleaned_tokens_list):\n",
    "    for tokens in cleaned_tokens_list:\n",
    "        for token in tokens:\n",
    "            yield token\n",
    "\n",
    "all_pos_words = get_all_words(cleaned_tokens_list)'''"
   ]
  },
  {
   "cell_type": "code",
   "execution_count": 20,
   "metadata": {},
   "outputs": [
    {
     "name": "stderr",
     "output_type": "stream",
     "text": [
      "[nltk_data] Downloading package webtext to C:\\Users\\Manya\n",
      "[nltk_data]     Mishra\\AppData\\Roaming\\nltk_data...\n",
      "[nltk_data]   Package webtext is already up-to-date!\n"
     ]
    },
    {
     "name": "stdout",
     "output_type": "stream",
     "text": [
      "away: 1\n",
      "bjp: 1\n",
      "break: 1\n",
      "come: 1\n",
      "ex: 1\n",
      "heart: 1\n",
      "last: 1\n",
      "memeber: 1\n",
      "mp: 1\n",
      "nandkumarsinghc: 1\n",
      "news: 1\n",
      "nig…: 1\n",
      "nisheethsharan: 1\n",
      "parliament: 1\n",
      "pass: 1\n",
      "president: 1\n",
      "rt: 1\n",
      "shri: 1\n"
     ]
    },
    {
     "data": {
      "image/png": "[encoded data removed]",
      "text/plain": [
       "<Figure size 432x288 with 1 Axes>"
      ]
     },
     "metadata": {
      "needs_background": "light"
     },
     "output_type": "display_data"
    },
    {
     "data": {
      "text/plain": [
       "<AxesSubplot:xlabel='Samples', ylabel='Counts'>"
      ]
     },
     "execution_count": 20,
     "metadata": {},
     "output_type": "execute_result"
    }
   ],
   "source": [
    "nltk.download('webtext')\n",
    "wt_words = cleaned_tokens_list\n",
    "data_analysis = nltk.FreqDist(wt_words)\n",
    " \n",
    "# Let's take the specific words only if their frequency is greater than 3.\n",
    "filter_words = dict([(m, n) for m, n in data_analysis.items()]) #if len(m) > 3])\n",
    " \n",
    "for key in sorted(filter_words):\n",
    "    print(\"%s: %s\" % (key, filter_words[key]))\n",
    " \n",
    "data_analysis = nltk.FreqDist(filter_words)\n",
    " \n",
    "data_analysis.plot(25, cumulative=False)\n"
   ]
  },
  {
   "cell_type": "code",
   "execution_count": null,
   "metadata": {},
   "outputs": [],
   "source": []
  }
 ],
 "metadata": {
  "kernelspec": {
   "display_name": "Python 3",
   "language": "python",
   "name": "python3"
  },
  "language_info": {
   "codemirror_mode": {
    "name": "ipython",
    "version": 3
   },
   "file_extension": ".py",
   "mimetype": "text/x-python",
   "name": "python",
   "nbconvert_exporter": "python",
   "pygments_lexer": "ipython3",
   "version": "3.8.5"
  }
 },
 "nbformat": 4,
 "nbformat_minor": 4
}
